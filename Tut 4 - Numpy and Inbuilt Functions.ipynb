{
 "cells": [
  {
   "cell_type": "markdown",
   "id": "3823ed10",
   "metadata": {},
   "source": [
    "\n",
    "### Numpy\n",
    "- general purpose array processing package\n",
    "- provides high performance multidimensional array object & tools for working with arrays\n",
    "- it is fundamental package for scientific computing with python\n"
   ]
  },
  {
   "cell_type": "raw",
   "id": "4ec3828c",
   "metadata": {},
   "source": [
    "What is Array?\n",
    "- a data structure that stores values of same data type "
   ]
  },
  {
   "cell_type": "code",
   "execution_count": 6,
   "id": "e75f9a80",
   "metadata": {},
   "outputs": [],
   "source": [
    "import numpy as np"
   ]
  },
  {
   "cell_type": "code",
   "execution_count": 2,
   "id": "a35b0692",
   "metadata": {},
   "outputs": [],
   "source": [
    "my_list = [1,2,3,4,5]\n",
    "arrray = np.array(my_list)"
   ]
  },
  {
   "cell_type": "code",
   "execution_count": 3,
   "id": "bc20b8d0",
   "metadata": {},
   "outputs": [
    {
     "data": {
      "text/plain": [
       "numpy.ndarray"
      ]
     },
     "execution_count": 3,
     "metadata": {},
     "output_type": "execute_result"
    }
   ],
   "source": [
    "type(arrray)"
   ]
  },
  {
   "cell_type": "code",
   "execution_count": 4,
   "id": "fe2716ef",
   "metadata": {},
   "outputs": [
    {
     "name": "stdout",
     "output_type": "stream",
     "text": [
      "[1 2 3 4 5]\n"
     ]
    }
   ],
   "source": [
    "print(arrray)"
   ]
  },
  {
   "cell_type": "code",
   "execution_count": 5,
   "id": "917aff28",
   "metadata": {},
   "outputs": [
    {
     "data": {
      "text/plain": [
       "(5,)"
      ]
     },
     "execution_count": 5,
     "metadata": {},
     "output_type": "execute_result"
    }
   ],
   "source": [
    "arrray.shape"
   ]
  },
  {
   "cell_type": "code",
   "execution_count": 6,
   "id": "5af85946",
   "metadata": {},
   "outputs": [
    {
     "data": {
      "text/plain": [
       "array([1, 2, 3, 4, 5])"
      ]
     },
     "execution_count": 6,
     "metadata": {},
     "output_type": "execute_result"
    }
   ],
   "source": [
    "arrray"
   ]
  },
  {
   "cell_type": "code",
   "execution_count": null,
   "id": "fccfead7",
   "metadata": {},
   "outputs": [],
   "source": [
    "arrray.reshape()"
   ]
  },
  {
   "cell_type": "code",
   "execution_count": 7,
   "id": "f4b2534a",
   "metadata": {},
   "outputs": [],
   "source": [
    "list_1 = [1,2,3,4,5]\n",
    "list_2 = [2,4,6,8,10]\n",
    "list_3 = [1,3,5,7,9]\n",
    "\n",
    "arrayy = np.array([list_1,list_2,list_3])"
   ]
  },
  {
   "cell_type": "code",
   "execution_count": 8,
   "id": "1a29cb0f",
   "metadata": {},
   "outputs": [
    {
     "data": {
      "text/plain": [
       "numpy.ndarray"
      ]
     },
     "execution_count": 8,
     "metadata": {},
     "output_type": "execute_result"
    }
   ],
   "source": [
    "type(arrayy)"
   ]
  },
  {
   "cell_type": "code",
   "execution_count": 9,
   "id": "bd457cad",
   "metadata": {},
   "outputs": [
    {
     "name": "stdout",
     "output_type": "stream",
     "text": [
      "[[ 1  2  3  4  5]\n",
      " [ 2  4  6  8 10]\n",
      " [ 1  3  5  7  9]]\n"
     ]
    }
   ],
   "source": [
    "print(arrayy)"
   ]
  },
  {
   "cell_type": "code",
   "execution_count": 4,
   "id": "d7b6962a",
   "metadata": {},
   "outputs": [
    {
     "ename": "NameError",
     "evalue": "name 'arrayy' is not defined",
     "output_type": "error",
     "traceback": [
      "\u001b[1;31m---------------------------------------------------------------------------\u001b[0m",
      "\u001b[1;31mNameError\u001b[0m                                 Traceback (most recent call last)",
      "Input \u001b[1;32mIn [4]\u001b[0m, in \u001b[0;36m<cell line: 1>\u001b[1;34m()\u001b[0m\n\u001b[1;32m----> 1\u001b[0m \u001b[43marrayy\u001b[49m\n",
      "\u001b[1;31mNameError\u001b[0m: name 'arrayy' is not defined"
     ]
    }
   ],
   "source": [
    "arrayy"
   ]
  },
  {
   "cell_type": "code",
   "execution_count": 11,
   "id": "d9afaf52",
   "metadata": {},
   "outputs": [
    {
     "data": {
      "text/plain": [
       "(3, 5)"
      ]
     },
     "execution_count": 11,
     "metadata": {},
     "output_type": "execute_result"
    }
   ],
   "source": [
    "arrayy.shape   #inbuilt function"
   ]
  },
  {
   "cell_type": "code",
   "execution_count": 13,
   "id": "2e86b478",
   "metadata": {},
   "outputs": [
    {
     "data": {
      "text/plain": [
       "array([[ 1,  2,  3,  4,  5],\n",
       "       [ 2,  4,  6,  8, 10],\n",
       "       [ 1,  3,  5,  7,  9]])"
      ]
     },
     "execution_count": 13,
     "metadata": {},
     "output_type": "execute_result"
    }
   ],
   "source": [
    "arrayy.reshape(3,5)"
   ]
  },
  {
   "cell_type": "code",
   "execution_count": 14,
   "id": "891675b0",
   "metadata": {},
   "outputs": [
    {
     "data": {
      "text/plain": [
       "array([ 1,  2,  3,  4,  5,  2,  4,  6,  8, 10,  1,  3,  5,  7,  9])"
      ]
     },
     "execution_count": 14,
     "metadata": {},
     "output_type": "execute_result"
    }
   ],
   "source": [
    " arrayy.reshape(15,)"
   ]
  },
  {
   "cell_type": "code",
   "execution_count": 16,
   "id": "14d9ede6",
   "metadata": {},
   "outputs": [
    {
     "data": {
      "text/plain": [
       "array([[ 1,  2,  3,  4,  5,  2,  4,  6,  8, 10,  1,  3,  5,  7,  9]])"
      ]
     },
     "execution_count": 16,
     "metadata": {},
     "output_type": "execute_result"
    }
   ],
   "source": [
    "arrayy.reshape(1,15)"
   ]
  },
  {
   "cell_type": "markdown",
   "id": "20ee0c1d",
   "metadata": {},
   "source": [
    "### Indexing\n"
   ]
  },
  {
   "cell_type": "code",
   "execution_count": 25,
   "id": "dcd6ae1a",
   "metadata": {},
   "outputs": [],
   "source": [
    "arr = np.array([1,2,3,4,5])"
   ]
  },
  {
   "cell_type": "code",
   "execution_count": 26,
   "id": "ad599aac",
   "metadata": {},
   "outputs": [
    {
     "data": {
      "text/plain": [
       "array([1, 2, 3, 4, 5])"
      ]
     },
     "execution_count": 26,
     "metadata": {},
     "output_type": "execute_result"
    }
   ],
   "source": [
    "arr"
   ]
  },
  {
   "cell_type": "code",
   "execution_count": 27,
   "id": "ca615e00",
   "metadata": {},
   "outputs": [
    {
     "data": {
      "text/plain": [
       "numpy.ndarray"
      ]
     },
     "execution_count": 27,
     "metadata": {},
     "output_type": "execute_result"
    }
   ],
   "source": [
    "type(arr)"
   ]
  },
  {
   "cell_type": "code",
   "execution_count": 29,
   "id": "c5852db5",
   "metadata": {},
   "outputs": [
    {
     "data": {
      "text/plain": [
       "5"
      ]
     },
     "execution_count": 29,
     "metadata": {},
     "output_type": "execute_result"
    }
   ],
   "source": [
    "arr[4]"
   ]
  },
  {
   "cell_type": "code",
   "execution_count": 34,
   "id": "4509c6eb",
   "metadata": {},
   "outputs": [
    {
     "data": {
      "text/plain": [
       "array([[ 1,  2,  3,  4,  5],\n",
       "       [ 2,  4,  6,  8, 10],\n",
       "       [ 1,  3,  5,  7,  9]])"
      ]
     },
     "execution_count": 34,
     "metadata": {},
     "output_type": "execute_result"
    }
   ],
   "source": [
    "arrayy[:,:]#indexing - all rows nd all columns"
   ]
  },
  {
   "cell_type": "code",
   "execution_count": 36,
   "id": "64595858",
   "metadata": {},
   "outputs": [
    {
     "data": {
      "text/plain": [
       "array([[ 4,  5],\n",
       "       [ 8, 10],\n",
       "       [ 7,  9]])"
      ]
     },
     "execution_count": 36,
     "metadata": {},
     "output_type": "execute_result"
    }
   ],
   "source": [
    "arrayy[:,3:] #all rows nd columns from 3rd index to last"
   ]
  },
  {
   "cell_type": "code",
   "execution_count": 37,
   "id": "59beb8d3",
   "metadata": {},
   "outputs": [
    {
     "data": {
      "text/plain": [
       "array([[ 2,  3,  4,  5],\n",
       "       [ 4,  6,  8, 10],\n",
       "       [ 3,  5,  7,  9]])"
      ]
     },
     "execution_count": 37,
     "metadata": {},
     "output_type": "execute_result"
    }
   ],
   "source": [
    "arrayy[0:,1:]"
   ]
  },
  {
   "cell_type": "code",
   "execution_count": 8,
   "id": "2e3b9292",
   "metadata": {},
   "outputs": [
    {
     "data": {
      "text/plain": [
       "array([[ 1,  2,  3,  4,  5],\n",
       "       [ 2,  4,  6,  8, 10]])"
      ]
     },
     "execution_count": 8,
     "metadata": {},
     "output_type": "execute_result"
    }
   ],
   "source": [
    "arrayy[0:2,:]#"
   ]
  },
  {
   "cell_type": "code",
   "execution_count": 9,
   "id": "2e4b5eab",
   "metadata": {},
   "outputs": [
    {
     "data": {
      "text/plain": [
       "array([[1, 2],\n",
       "       [2, 4],\n",
       "       [1, 3]])"
      ]
     },
     "execution_count": 9,
     "metadata": {},
     "output_type": "execute_result"
    }
   ],
   "source": [
    "arrayy[:,0:2]"
   ]
  },
  {
   "cell_type": "code",
   "execution_count": 10,
   "id": "03cd9958",
   "metadata": {},
   "outputs": [
    {
     "data": {
      "text/plain": [
       "array([[1, 2],\n",
       "       [2, 4]])"
      ]
     },
     "execution_count": 10,
     "metadata": {},
     "output_type": "execute_result"
    }
   ],
   "source": [
    "arrayy[0:2,0:2]"
   ]
  },
  {
   "cell_type": "code",
   "execution_count": 42,
   "id": "b9ed48ed",
   "metadata": {},
   "outputs": [
    {
     "data": {
      "text/plain": [
       "array([[ 8, 10],\n",
       "       [ 7,  9]])"
      ]
     },
     "execution_count": 42,
     "metadata": {},
     "output_type": "execute_result"
    }
   ],
   "source": [
    "arrayy[1:,3:]"
   ]
  },
  {
   "cell_type": "code",
   "execution_count": 47,
   "id": "75888929",
   "metadata": {},
   "outputs": [
    {
     "data": {
      "text/plain": [
       "array([[ 1],\n",
       "       [ 2],\n",
       "       [ 3],\n",
       "       [ 4],\n",
       "       [ 5],\n",
       "       [ 2],\n",
       "       [ 4],\n",
       "       [ 6],\n",
       "       [ 8],\n",
       "       [10],\n",
       "       [ 1],\n",
       "       [ 3],\n",
       "       [ 5],\n",
       "       [ 7],\n",
       "       [ 9]])"
      ]
     },
     "execution_count": 47,
     "metadata": {},
     "output_type": "execute_result"
    }
   ],
   "source": [
    "arrayy.reshape(15,1)"
   ]
  },
  {
   "cell_type": "code",
   "execution_count": 51,
   "id": "24df21fb",
   "metadata": {},
   "outputs": [
    {
     "name": "stdout",
     "output_type": "stream",
     "text": [
      "[ 5  6  7  8  9 10 11]\n"
     ]
    }
   ],
   "source": [
    "arrayy = np.arange(5,12)\n",
    "print(arrayy)"
   ]
  },
  {
   "cell_type": "code",
   "execution_count": 52,
   "id": "54c25b23",
   "metadata": {},
   "outputs": [
    {
     "name": "stdout",
     "output_type": "stream",
     "text": [
      "[ 3  5  7  9 11]\n"
     ]
    }
   ],
   "source": [
    "arrayy = np.arange(3,12,step=2)\n",
    "print(arrayy)"
   ]
  },
  {
   "cell_type": "code",
   "execution_count": 54,
   "id": "41172eca",
   "metadata": {},
   "outputs": [
    {
     "data": {
      "text/plain": [
       "array([ 1.        ,  1.47368421,  1.94736842,  2.42105263,  2.89473684,\n",
       "        3.36842105,  3.84210526,  4.31578947,  4.78947368,  5.26315789,\n",
       "        5.73684211,  6.21052632,  6.68421053,  7.15789474,  7.63157895,\n",
       "        8.10526316,  8.57894737,  9.05263158,  9.52631579, 10.        ])"
      ]
     },
     "execution_count": 54,
     "metadata": {},
     "output_type": "execute_result"
    }
   ],
   "source": [
    "np.linspace(1,10,20) # 1 to 10 20 points"
   ]
  },
  {
   "cell_type": "code",
   "execution_count": 56,
   "id": "bb45cb5f",
   "metadata": {},
   "outputs": [
    {
     "data": {
      "text/plain": [
       "array([1, 2, 3])"
      ]
     },
     "execution_count": 56,
     "metadata": {},
     "output_type": "execute_result"
    }
   ],
   "source": [
    "#copy() func & broadcasting\n",
    "arre =np.array([1,2,3])\n",
    "arre"
   ]
  },
  {
   "cell_type": "code",
   "execution_count": 57,
   "id": "3b81a3e3",
   "metadata": {},
   "outputs": [],
   "source": [
    "arre1 = arre"
   ]
  },
  {
   "cell_type": "code",
   "execution_count": 60,
   "id": "f09e9e4f",
   "metadata": {},
   "outputs": [
    {
     "name": "stdout",
     "output_type": "stream",
     "text": [
      "[  1 500 500]\n"
     ]
    }
   ],
   "source": [
    "arre1[1:] = 500\n",
    "print(arre1)"
   ]
  },
  {
   "cell_type": "code",
   "execution_count": 61,
   "id": "c8c68615",
   "metadata": {},
   "outputs": [],
   "source": [
    "arre1 = arre.copy()"
   ]
  },
  {
   "cell_type": "code",
   "execution_count": 62,
   "id": "9100137f",
   "metadata": {},
   "outputs": [
    {
     "name": "stdout",
     "output_type": "stream",
     "text": [
      "[  1 500 500]\n"
     ]
    }
   ],
   "source": [
    "print(arre)"
   ]
  },
  {
   "cell_type": "code",
   "execution_count": 63,
   "id": "062ac160",
   "metadata": {},
   "outputs": [
    {
     "name": "stdout",
     "output_type": "stream",
     "text": [
      "[  1 500 500]\n"
     ]
    }
   ],
   "source": [
    "print(arre1)"
   ]
  },
  {
   "cell_type": "code",
   "execution_count": 64,
   "id": "aeb55063",
   "metadata": {},
   "outputs": [],
   "source": [
    "arre1[2:] = 100"
   ]
  },
  {
   "cell_type": "code",
   "execution_count": 65,
   "id": "540c6fbc",
   "metadata": {},
   "outputs": [
    {
     "name": "stdout",
     "output_type": "stream",
     "text": [
      "[  1 500 100]\n"
     ]
    }
   ],
   "source": [
    "print(arre1)"
   ]
  },
  {
   "cell_type": "raw",
   "id": "7be83d01",
   "metadata": {},
   "source": [
    "conditions useful in exploratory data analysis"
   ]
  },
  {
   "cell_type": "code",
   "execution_count": 77,
   "id": "4d9abadf",
   "metadata": {},
   "outputs": [],
   "source": [
    "arr = np.array([0,1,2,4,3,5])"
   ]
  },
  {
   "cell_type": "code",
   "execution_count": 78,
   "id": "260eefe0",
   "metadata": {},
   "outputs": [
    {
     "data": {
      "text/plain": [
       "array([ True,  True, False, False, False, False])"
      ]
     },
     "execution_count": 78,
     "metadata": {},
     "output_type": "execute_result"
    }
   ],
   "source": [
    "val = 2\n",
    "arr < 2"
   ]
  },
  {
   "cell_type": "code",
   "execution_count": 79,
   "id": "01b338e8",
   "metadata": {},
   "outputs": [
    {
     "data": {
      "text/plain": [
       "array([0, 1])"
      ]
     },
     "execution_count": 79,
     "metadata": {},
     "output_type": "execute_result"
    }
   ],
   "source": [
    "val = 2\n",
    "arr[arr<val]"
   ]
  },
  {
   "cell_type": "code",
   "execution_count": 84,
   "id": "df9ab7cc",
   "metadata": {},
   "outputs": [
    {
     "data": {
      "text/plain": [
       "array([0, 1, 2, 3, 4, 5])"
      ]
     },
     "execution_count": 84,
     "metadata": {},
     "output_type": "execute_result"
    }
   ],
   "source": [
    "np.arange(0,6)"
   ]
  },
  {
   "cell_type": "code",
   "execution_count": 86,
   "id": "1d0bc911",
   "metadata": {},
   "outputs": [
    {
     "data": {
      "text/plain": [
       "array([[0, 1, 2],\n",
       "       [3, 4, 5]])"
      ]
     },
     "execution_count": 86,
     "metadata": {},
     "output_type": "execute_result"
    }
   ],
   "source": [
    "np.arange(0,6).reshape(2,3) #rows,columns"
   ]
  },
  {
   "cell_type": "code",
   "execution_count": 93,
   "id": "52b74e3f",
   "metadata": {},
   "outputs": [],
   "source": [
    "ar1 = np.arange(0,6).reshape(1,6)\n",
    "ar2 = np.arange(0,6).reshape(6,1)"
   ]
  },
  {
   "cell_type": "code",
   "execution_count": 94,
   "id": "1026b657",
   "metadata": {},
   "outputs": [
    {
     "name": "stdout",
     "output_type": "stream",
     "text": [
      "[[0 1 2 3 4 5]]\n",
      "[[0]\n",
      " [1]\n",
      " [2]\n",
      " [3]\n",
      " [4]\n",
      " [5]]\n"
     ]
    }
   ],
   "source": [
    "print(ar1)\n",
    "print(ar2)"
   ]
  },
  {
   "cell_type": "code",
   "execution_count": 95,
   "id": "4a803ead",
   "metadata": {},
   "outputs": [
    {
     "data": {
      "text/plain": [
       "array([[ 0,  0,  0,  0,  0,  0],\n",
       "       [ 0,  1,  2,  3,  4,  5],\n",
       "       [ 0,  2,  4,  6,  8, 10],\n",
       "       [ 0,  3,  6,  9, 12, 15],\n",
       "       [ 0,  4,  8, 12, 16, 20],\n",
       "       [ 0,  5, 10, 15, 20, 25]])"
      ]
     },
     "execution_count": 95,
     "metadata": {},
     "output_type": "execute_result"
    }
   ],
   "source": [
    "ar1*ar2"
   ]
  },
  {
   "cell_type": "raw",
   "id": "a1d734c2",
   "metadata": {},
   "source": [
    "Inbuilt Functions"
   ]
  },
  {
   "cell_type": "code",
   "execution_count": 97,
   "id": "95282247",
   "metadata": {},
   "outputs": [
    {
     "data": {
      "text/plain": [
       "array([1., 1., 1., 1., 1.])"
      ]
     },
     "execution_count": 97,
     "metadata": {},
     "output_type": "execute_result"
    }
   ],
   "source": [
    "np.ones(5,dtype=float)"
   ]
  },
  {
   "cell_type": "code",
   "execution_count": 99,
   "id": "68432561",
   "metadata": {},
   "outputs": [
    {
     "data": {
      "text/plain": [
       "array([[1, 1, 1, 1, 1],\n",
       "       [1, 1, 1, 1, 1]])"
      ]
     },
     "execution_count": 99,
     "metadata": {},
     "output_type": "execute_result"
    }
   ],
   "source": [
    "np.ones((2,5),dtype=int) #2 rows 5 columns"
   ]
  },
  {
   "cell_type": "code",
   "execution_count": 100,
   "id": "c7af1ea3",
   "metadata": {},
   "outputs": [
    {
     "data": {
      "text/plain": [
       "array([[0.44350295, 0.44129242, 0.28264508],\n",
       "       [0.29221396, 0.22591764, 0.82984131],\n",
       "       [0.5996439 , 0.27286733, 0.07260922]])"
      ]
     },
     "execution_count": 100,
     "metadata": {},
     "output_type": "execute_result"
    }
   ],
   "source": [
    "np.random.rand(3,3) #chooses random values"
   ]
  },
  {
   "cell_type": "code",
   "execution_count": 101,
   "id": "7e43f07e",
   "metadata": {},
   "outputs": [],
   "source": [
    "ar3 = np.random.rand(2,4)"
   ]
  },
  {
   "cell_type": "code",
   "execution_count": 102,
   "id": "26ba8bc1",
   "metadata": {},
   "outputs": [
    {
     "data": {
      "text/plain": [
       "array([[0.02090903, 0.1439034 , 0.00442438, 0.82284618],\n",
       "       [0.30097272, 0.49544824, 0.21532373, 0.98142414]])"
      ]
     },
     "execution_count": 102,
     "metadata": {},
     "output_type": "execute_result"
    }
   ],
   "source": [
    "ar3"
   ]
  },
  {
   "cell_type": "code",
   "execution_count": 105,
   "id": "c43b4bc5",
   "metadata": {},
   "outputs": [],
   "source": [
    "import seaborn as sns\n",
    "import pandas as pd"
   ]
  },
  {
   "cell_type": "code",
   "execution_count": 106,
   "id": "5cc84e4f",
   "metadata": {},
   "outputs": [
    {
     "name": "stderr",
     "output_type": "stream",
     "text": [
      "C:\\Users\\Sujay\\anaconda3\\lib\\site-packages\\seaborn\\distributions.py:2619: FutureWarning: `distplot` is a deprecated function and will be removed in a future version. Please adapt your code to use either `displot` (a figure-level function with similar flexibility) or `histplot` (an axes-level function for histograms).\n",
      "  warnings.warn(msg, FutureWarning)\n"
     ]
    },
    {
     "data": {
      "text/plain": [
       "<AxesSubplot:ylabel='Density'>"
      ]
     },
     "execution_count": 106,
     "metadata": {},
     "output_type": "execute_result"
    },
    {
     "data": {
      "image/png": "[encoded data removed]",
      "text/plain": [
       "<Figure size 432x288 with 1 Axes>"
      ]
     },
     "metadata": {
      "needs_background": "light"
     },
     "output_type": "display_data"
    }
   ],
   "source": [
    "sns.distplot(pd.DataFrame(ar3))"
   ]
  },
  {
   "cell_type": "code",
   "execution_count": 109,
   "id": "7d397b51",
   "metadata": {},
   "outputs": [
    {
     "data": {
      "text/plain": [
       "array([[16,  0,  7, 17,  9],\n",
       "       [19,  3, 14, 11, 15]])"
      ]
     },
     "execution_count": 109,
     "metadata": {},
     "output_type": "execute_result"
    }
   ],
   "source": [
    "np.random.randint(0,20,10).reshape(2,5)"
   ]
  },
  {
   "cell_type": "code",
   "execution_count": 108,
   "id": "cb1ad1c8",
   "metadata": {},
   "outputs": [
    {
     "data": {
      "text/plain": [
       "array([[0.67430954, 0.76218659, 0.57050982, 0.5007665 ]])"
      ]
     },
     "execution_count": 108,
     "metadata": {},
     "output_type": "execute_result"
    }
   ],
   "source": [
    "np.random.random_sample((1,4))"
   ]
  }
 ],
 "metadata": {
  "kernelspec": {
   "display_name": "Python 3 (ipykernel)",
   "language": "python",
   "name": "python3"
  },
  "language_info": {
   "codemirror_mode": {
    "name": "ipython",
    "version": 3
   },
   "file_extension": ".py",
   "mimetype": "text/x-python",
   "name": "python",
   "nbconvert_exporter": "python",
   "pygments_lexer": "ipython3",
   "version": "3.9.13"
  }
 },
 "nbformat": 4,
 "nbformat_minor": 5
}
