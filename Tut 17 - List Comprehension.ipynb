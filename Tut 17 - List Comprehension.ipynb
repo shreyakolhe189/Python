{
 "cells": [
  {
   "cell_type": "markdown",
   "id": "110996a5",
   "metadata": {},
   "source": [
    "## List Comprehension\n",
    "- provides a concise way to create lists\n",
    "- consists of brackets containing an expression followed by a for clause, then zero or more for or if clauses\n",
    "- the expression can be anything, u can put all kinds of objects in lists"
   ]
  },
  {
   "cell_type": "code",
   "execution_count": 5,
   "id": "b1eaaf55",
   "metadata": {},
   "outputs": [],
   "source": [
    "lst1 = []\n",
    "def list_square(lst):\n",
    "    for i in lst:\n",
    "        lst1.append(i*i)\n",
    "    return lst1"
   ]
  },
  {
   "cell_type": "code",
   "execution_count": 6,
   "id": "8805e1cf",
   "metadata": {},
   "outputs": [
    {
     "data": {
      "text/plain": [
       "[1, 4, 9, 16, 25]"
      ]
     },
     "execution_count": 6,
     "metadata": {},
     "output_type": "execute_result"
    }
   ],
   "source": [
    "list_square([1,2,3,4,5])"
   ]
  },
  {
   "cell_type": "code",
   "execution_count": 15,
   "id": "10fa5981",
   "metadata": {},
   "outputs": [],
   "source": [
    "#list comprehension"
   ]
  },
  {
   "cell_type": "code",
   "execution_count": 13,
   "id": "a21a065f",
   "metadata": {},
   "outputs": [],
   "source": [
    "lstt = [1,2,3,4,5,6,7]"
   ]
  },
  {
   "cell_type": "code",
   "execution_count": 14,
   "id": "485d3e2a",
   "metadata": {},
   "outputs": [
    {
     "data": {
      "text/plain": [
       "[1, 4, 9, 16, 25, 36, 49]"
      ]
     },
     "execution_count": 14,
     "metadata": {},
     "output_type": "execute_result"
    }
   ],
   "source": [
    "[i*i for i in lstt]  "
   ]
  },
  {
   "cell_type": "code",
   "execution_count": 16,
   "id": "14fc36e5",
   "metadata": {},
   "outputs": [],
   "source": [
    "a = [i*i for i in lstt]  "
   ]
  },
  {
   "cell_type": "code",
   "execution_count": 17,
   "id": "5654dac5",
   "metadata": {},
   "outputs": [
    {
     "name": "stdout",
     "output_type": "stream",
     "text": [
      "[1, 4, 9, 16, 25, 36, 49]\n"
     ]
    }
   ],
   "source": [
    "print(a)"
   ]
  },
  {
   "cell_type": "code",
   "execution_count": 20,
   "id": "bf9728f9",
   "metadata": {},
   "outputs": [],
   "source": [
    "lt = [1,2,3,4,5,6,7,8,9,10]\n",
    "b = [i*i for i in lt if i%2==0]\n",
    "c = [i*i for i in lt if i%2!=0]"
   ]
  },
  {
   "cell_type": "code",
   "execution_count": 21,
   "id": "86fe2607",
   "metadata": {},
   "outputs": [
    {
     "name": "stdout",
     "output_type": "stream",
     "text": [
      "[4, 16, 36, 64, 100]\n",
      "[1, 9, 25, 49, 81]\n"
     ]
    }
   ],
   "source": [
    "print(b)\n",
    "print(c)"
   ]
  }
 ],
 "metadata": {
  "kernelspec": {
   "display_name": "Python 3 (ipykernel)",
   "language": "python",
   "name": "python3"
  },
  "language_info": {
   "codemirror_mode": {
    "name": "ipython",
    "version": 3
   },
   "file_extension": ".py",
   "mimetype": "text/x-python",
   "name": "python",
   "nbconvert_exporter": "python",
   "pygments_lexer": "ipython3",
   "version": "3.9.13"
  }
 },
 "nbformat": 4,
 "nbformat_minor": 5
}
