{
 "cells": [
  {
   "cell_type": "code",
   "execution_count": 1,
   "id": "244b2eaf",
   "metadata": {},
   "outputs": [],
   "source": [
    "class Car:\n",
    "    pass #pass will make it empty class - having no properties"
   ]
  },
  {
   "cell_type": "code",
   "execution_count": 2,
   "id": "cdfe6722",
   "metadata": {},
   "outputs": [],
   "source": [
    "car1 = Car()"
   ]
  },
  {
   "cell_type": "code",
   "execution_count": 3,
   "id": "68fd0312",
   "metadata": {},
   "outputs": [
    {
     "data": {
      "text/plain": [
       "<__main__.Car at 0x1c59e291a30>"
      ]
     },
     "execution_count": 3,
     "metadata": {},
     "output_type": "execute_result"
    }
   ],
   "source": [
    "car1"
   ]
  },
  {
   "cell_type": "code",
   "execution_count": 4,
   "id": "5c83acec",
   "metadata": {},
   "outputs": [],
   "source": [
    "car1.windows = 5\n",
    "car1.doors = 4"
   ]
  },
  {
   "cell_type": "code",
   "execution_count": 5,
   "id": "134613fd",
   "metadata": {},
   "outputs": [
    {
     "data": {
      "text/plain": [
       "5"
      ]
     },
     "execution_count": 5,
     "metadata": {},
     "output_type": "execute_result"
    }
   ],
   "source": [
    "car1.windows"
   ]
  },
  {
   "cell_type": "code",
   "execution_count": 6,
   "id": "25b5efa7",
   "metadata": {},
   "outputs": [
    {
     "data": {
      "text/plain": [
       "4"
      ]
     },
     "execution_count": 6,
     "metadata": {},
     "output_type": "execute_result"
    }
   ],
   "source": [
    "car1.doors"
   ]
  },
  {
   "cell_type": "code",
   "execution_count": 7,
   "id": "b459e2af",
   "metadata": {},
   "outputs": [],
   "source": [
    "car2 = Car()"
   ]
  },
  {
   "cell_type": "code",
   "execution_count": 8,
   "id": "2205950b",
   "metadata": {},
   "outputs": [],
   "source": [
    "car2.windows = 3\n",
    "car2.doors = 3"
   ]
  },
  {
   "cell_type": "code",
   "execution_count": 9,
   "id": "b69e1738",
   "metadata": {},
   "outputs": [
    {
     "data": {
      "text/plain": [
       "3"
      ]
     },
     "execution_count": 9,
     "metadata": {},
     "output_type": "execute_result"
    }
   ],
   "source": [
    "car2.windows"
   ]
  },
  {
   "cell_type": "code",
   "execution_count": 10,
   "id": "b83f8d8a",
   "metadata": {},
   "outputs": [
    {
     "data": {
      "text/plain": [
       "3"
      ]
     },
     "execution_count": 10,
     "metadata": {},
     "output_type": "execute_result"
    }
   ],
   "source": [
    "car2.doors"
   ]
  },
  {
   "cell_type": "code",
   "execution_count": 11,
   "id": "c1315ce1",
   "metadata": {},
   "outputs": [],
   "source": [
    "car2.engine = 'petrol'"
   ]
  },
  {
   "cell_type": "code",
   "execution_count": 12,
   "id": "c68b2243",
   "metadata": {},
   "outputs": [
    {
     "name": "stdout",
     "output_type": "stream",
     "text": [
      "petrol\n"
     ]
    }
   ],
   "source": [
    "print(car2.engine)"
   ]
  },
  {
   "cell_type": "code",
   "execution_count": 13,
   "id": "e166df7f",
   "metadata": {},
   "outputs": [
    {
     "data": {
      "text/plain": [
       "['__class__',\n",
       " '__delattr__',\n",
       " '__dict__',\n",
       " '__dir__',\n",
       " '__doc__',\n",
       " '__eq__',\n",
       " '__format__',\n",
       " '__ge__',\n",
       " '__getattribute__',\n",
       " '__gt__',\n",
       " '__hash__',\n",
       " '__init__',\n",
       " '__init_subclass__',\n",
       " '__le__',\n",
       " '__lt__',\n",
       " '__module__',\n",
       " '__ne__',\n",
       " '__new__',\n",
       " '__reduce__',\n",
       " '__reduce_ex__',\n",
       " '__repr__',\n",
       " '__setattr__',\n",
       " '__sizeof__',\n",
       " '__str__',\n",
       " '__subclasshook__',\n",
       " '__weakref__',\n",
       " 'doors',\n",
       " 'windows']"
      ]
     },
     "execution_count": 13,
     "metadata": {},
     "output_type": "execute_result"
    }
   ],
   "source": [
    "dir(car1)"
   ]
  },
  {
   "cell_type": "code",
   "execution_count": 39,
   "id": "601d0c84",
   "metadata": {},
   "outputs": [],
   "source": [
    "class Carr:\n",
    "    def __init__(self,window,door,enginetype):#1 - self parameter is must, 2 - attribute names\n",
    "        self.window = window                  #INIT IS CONSTRUCTOR\n",
    "        self.door = door\n",
    "        self.enginetype = enginetype\n",
    "    def self_driving(self):\n",
    "        return \"This is a {} car\".format(self.enginetype)"
   ]
  },
  {
   "cell_type": "code",
   "execution_count": 40,
   "id": "2301e048",
   "metadata": {},
   "outputs": [],
   "source": [
    "carr1 = Carr(4,4,'petrol')"
   ]
  },
  {
   "cell_type": "code",
   "execution_count": 41,
   "id": "314ab3ea",
   "metadata": {},
   "outputs": [
    {
     "data": {
      "text/plain": [
       "'This is a petrol car'"
      ]
     },
     "execution_count": 41,
     "metadata": {},
     "output_type": "execute_result"
    }
   ],
   "source": [
    "carr1.self_driving()"
   ]
  },
  {
   "cell_type": "code",
   "execution_count": 42,
   "id": "44a40d1e",
   "metadata": {},
   "outputs": [
    {
     "name": "stdout",
     "output_type": "stream",
     "text": [
      "<__main__.Carr object at 0x000001C5A051EA90>\n"
     ]
    }
   ],
   "source": [
    "print(carr1)"
   ]
  },
  {
   "cell_type": "code",
   "execution_count": 43,
   "id": "74d0a741",
   "metadata": {},
   "outputs": [
    {
     "name": "stdout",
     "output_type": "stream",
     "text": [
      "petrol\n"
     ]
    }
   ],
   "source": [
    "print(carr1.enginetype)"
   ]
  },
  {
   "cell_type": "code",
   "execution_count": 44,
   "id": "8471e376",
   "metadata": {},
   "outputs": [],
   "source": [
    "carr2 = Carr(3,4,'diesel')"
   ]
  },
  {
   "cell_type": "code",
   "execution_count": 45,
   "id": "f7bc560e",
   "metadata": {},
   "outputs": [
    {
     "name": "stdout",
     "output_type": "stream",
     "text": [
      "4\n"
     ]
    }
   ],
   "source": [
    "print(carr2.door)"
   ]
  },
  {
   "cell_type": "code",
   "execution_count": 46,
   "id": "90c131e9",
   "metadata": {},
   "outputs": [
    {
     "data": {
      "text/plain": [
       "'This is a diesel car'"
      ]
     },
     "execution_count": 46,
     "metadata": {},
     "output_type": "execute_result"
    }
   ],
   "source": [
    "carr2.self_driving()"
   ]
  }
 ],
 "metadata": {
  "kernelspec": {
   "display_name": "Python 3 (ipykernel)",
   "language": "python",
   "name": "python3"
  },
  "language_info": {
   "codemirror_mode": {
    "name": "ipython",
    "version": 3
   },
   "file_extension": ".py",
   "mimetype": "text/x-python",
   "name": "python",
   "nbconvert_exporter": "python",
   "pygments_lexer": "ipython3",
   "version": "3.9.13"
  }
 },
 "nbformat": 4,
 "nbformat_minor": 5
}
