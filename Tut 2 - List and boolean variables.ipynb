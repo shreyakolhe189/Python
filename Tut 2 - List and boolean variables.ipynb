{
 "cells": [
  {
   "cell_type": "markdown",
   "id": "5a3a389f",
   "metadata": {},
   "source": [
    "### Data Structures and Boolean\n",
    "- boolean\n",
    "- boolean and logical operators\n",
    "- lists\n",
    "- comparison operators\n",
    "- dictionaries\n",
    "- tuples\n",
    "- sets"
   ]
  },
  {
   "cell_type": "markdown",
   "id": "24122d36",
   "metadata": {},
   "source": [
    "### Boolean Variables\n",
    "True or False\n",
    "used to represent truth values\n",
    "o for false, 1 for true"
   ]
  },
  {
   "cell_type": "code",
   "execution_count": 5,
   "id": "791cd68e",
   "metadata": {},
   "outputs": [
    {
     "data": {
      "text/plain": [
       "True"
      ]
     },
     "execution_count": 5,
     "metadata": {},
     "output_type": "execute_result"
    }
   ],
   "source": [
    "True"
   ]
  },
  {
   "cell_type": "code",
   "execution_count": 6,
   "id": "9e270a98",
   "metadata": {},
   "outputs": [
    {
     "data": {
      "text/plain": [
       "False"
      ]
     },
     "execution_count": 6,
     "metadata": {},
     "output_type": "execute_result"
    }
   ],
   "source": [
    "False"
   ]
  },
  {
   "cell_type": "code",
   "execution_count": 1,
   "id": "f6c03b91",
   "metadata": {},
   "outputs": [
    {
     "name": "stdout",
     "output_type": "stream",
     "text": [
      "True False\n"
     ]
    }
   ],
   "source": [
    "print(True,False)"
   ]
  },
  {
   "cell_type": "code",
   "execution_count": 2,
   "id": "e29c7703",
   "metadata": {},
   "outputs": [
    {
     "data": {
      "text/plain": [
       "bool"
      ]
     },
     "execution_count": 2,
     "metadata": {},
     "output_type": "execute_result"
    }
   ],
   "source": [
    "type(True)"
   ]
  },
  {
   "cell_type": "code",
   "execution_count": 3,
   "id": "53f66a81",
   "metadata": {},
   "outputs": [
    {
     "data": {
      "text/plain": [
       "bool"
      ]
     },
     "execution_count": 3,
     "metadata": {},
     "output_type": "execute_result"
    }
   ],
   "source": [
    "type(False)"
   ]
  },
  {
   "cell_type": "code",
   "execution_count": 12,
   "id": "2ef7c983",
   "metadata": {},
   "outputs": [],
   "source": [
    "my_str = 'shreya'"
   ]
  },
  {
   "cell_type": "code",
   "execution_count": 15,
   "id": "466cae0f",
   "metadata": {},
   "outputs": [
    {
     "name": "stdout",
     "output_type": "stream",
     "text": [
      "True\n",
      "True\n",
      "False\n",
      "False\n",
      "False\n",
      "True\n",
      "False\n",
      "False\n",
      "True\n"
     ]
    }
   ],
   "source": [
    "print(my_str.isalnum()) # alpha numeric - shreya123\n",
    "print(my_str.isalpha()) # alphabet - shreya\n",
    "print(my_str.isdigit()) # 123\n",
    "print(my_str.istitle())\n",
    "print(my_str.isupper()) # SHREYA\n",
    "print(my_str.islower()) # shreya\n",
    "print(my_str.isspace()) \n",
    "print(my_str.endswith('s'))\n",
    "print(my_str.startswith('s'))"
   ]
  },
  {
   "cell_type": "markdown",
   "id": "e15d9301",
   "metadata": {},
   "source": [
    "### Boolean and Logical Operators"
   ]
  },
  {
   "cell_type": "code",
   "execution_count": 16,
   "id": "1b209dfa",
   "metadata": {},
   "outputs": [
    {
     "data": {
      "text/plain": [
       "True"
      ]
     },
     "execution_count": 16,
     "metadata": {},
     "output_type": "execute_result"
    }
   ],
   "source": [
    "True and True"
   ]
  },
  {
   "cell_type": "code",
   "execution_count": 17,
   "id": "1c049c4a",
   "metadata": {},
   "outputs": [
    {
     "data": {
      "text/plain": [
       "False"
      ]
     },
     "execution_count": 17,
     "metadata": {},
     "output_type": "execute_result"
    }
   ],
   "source": [
    "True and False"
   ]
  },
  {
   "cell_type": "code",
   "execution_count": 18,
   "id": "a7db5246",
   "metadata": {},
   "outputs": [
    {
     "data": {
      "text/plain": [
       "True"
      ]
     },
     "execution_count": 18,
     "metadata": {},
     "output_type": "execute_result"
    }
   ],
   "source": [
    "True or True"
   ]
  },
  {
   "cell_type": "code",
   "execution_count": 19,
   "id": "27949334",
   "metadata": {},
   "outputs": [
    {
     "data": {
      "text/plain": [
       "True"
      ]
     },
     "execution_count": 19,
     "metadata": {},
     "output_type": "execute_result"
    }
   ],
   "source": [
    "True or False"
   ]
  },
  {
   "cell_type": "code",
   "execution_count": 20,
   "id": "805610b1",
   "metadata": {},
   "outputs": [
    {
     "data": {
      "text/plain": [
       "False"
      ]
     },
     "execution_count": 20,
     "metadata": {},
     "output_type": "execute_result"
    }
   ],
   "source": [
    "False and True"
   ]
  },
  {
   "cell_type": "code",
   "execution_count": 21,
   "id": "449d0fa1",
   "metadata": {},
   "outputs": [
    {
     "data": {
      "text/plain": [
       "True"
      ]
     },
     "execution_count": 21,
     "metadata": {},
     "output_type": "execute_result"
    }
   ],
   "source": [
    "False or True"
   ]
  },
  {
   "cell_type": "code",
   "execution_count": null,
   "id": "ca906b4d",
   "metadata": {},
   "outputs": [],
   "source": [
    "str_eg = \"Hello\"\n",
    "my_str = \"shreya\""
   ]
  },
  {
   "cell_type": "code",
   "execution_count": 25,
   "id": "34dcf25c",
   "metadata": {},
   "outputs": [
    {
     "data": {
      "text/plain": [
       "True"
      ]
     },
     "execution_count": 25,
     "metadata": {},
     "output_type": "execute_result"
    }
   ],
   "source": [
    "my_str.isalpha() or str_eg.isnum()"
   ]
  },
  {
   "cell_type": "markdown",
   "id": "55a553f2",
   "metadata": {},
   "source": [
    "### List\n",
    "- mutable,changeable,ordered sequence of elements\n",
    "- each value inside list is caled item\n",
    "- defined as values between square brackets []"
   ]
  },
  {
   "cell_type": "code",
   "execution_count": 27,
   "id": "760b42f7",
   "metadata": {},
   "outputs": [
    {
     "data": {
      "text/plain": [
       "list"
      ]
     },
     "execution_count": 27,
     "metadata": {},
     "output_type": "execute_result"
    }
   ],
   "source": [
    "type([])"
   ]
  },
  {
   "cell_type": "code",
   "execution_count": 28,
   "id": "46b4ed63",
   "metadata": {},
   "outputs": [],
   "source": [
    "list = []"
   ]
  },
  {
   "cell_type": "code",
   "execution_count": 29,
   "id": "8cf879ee",
   "metadata": {},
   "outputs": [
    {
     "data": {
      "text/plain": [
       "list"
      ]
     },
     "execution_count": 29,
     "metadata": {},
     "output_type": "execute_result"
    }
   ],
   "source": [
    "type(list)"
   ]
  },
  {
   "cell_type": "code",
   "execution_count": 33,
   "id": "4f8da72e",
   "metadata": {},
   "outputs": [],
   "source": [
    "#lst = list()"
   ]
  },
  {
   "cell_type": "code",
   "execution_count": 34,
   "id": "e465f10d",
   "metadata": {},
   "outputs": [],
   "source": [
    "list = [\"Maths\",\"chem\",1,33,42]"
   ]
  },
  {
   "cell_type": "code",
   "execution_count": 35,
   "id": "8aba2705",
   "metadata": {},
   "outputs": [
    {
     "data": {
      "text/plain": [
       "list"
      ]
     },
     "execution_count": 35,
     "metadata": {},
     "output_type": "execute_result"
    }
   ],
   "source": [
    "type(list)"
   ]
  },
  {
   "cell_type": "markdown",
   "id": "01ac5897",
   "metadata": {},
   "source": [
    "### Append"
   ]
  },
  {
   "cell_type": "code",
   "execution_count": 42,
   "id": "6c5fda4b",
   "metadata": {},
   "outputs": [],
   "source": [
    "list.append('kkk')"
   ]
  },
  {
   "cell_type": "code",
   "execution_count": 43,
   "id": "28eb7fd5",
   "metadata": {},
   "outputs": [
    {
     "data": {
      "text/plain": [
       "['Maths', 'chem', 1, 33, 42, 'a', 'a', 'kkk']"
      ]
     },
     "execution_count": 43,
     "metadata": {},
     "output_type": "execute_result"
    }
   ],
   "source": [
    "list"
   ]
  },
  {
   "cell_type": "code",
   "execution_count": 44,
   "id": "d3eeee3f",
   "metadata": {},
   "outputs": [
    {
     "data": {
      "text/plain": [
       "1"
      ]
     },
     "execution_count": 44,
     "metadata": {},
     "output_type": "execute_result"
    }
   ],
   "source": [
    "list[2]"
   ]
  },
  {
   "cell_type": "code",
   "execution_count": 45,
   "id": "6dbbd4be",
   "metadata": {},
   "outputs": [
    {
     "data": {
      "text/plain": [
       "'chem'"
      ]
     },
     "execution_count": 45,
     "metadata": {},
     "output_type": "execute_result"
    }
   ],
   "source": [
    "list[1]"
   ]
  },
  {
   "cell_type": "code",
   "execution_count": 48,
   "id": "6fbbe727",
   "metadata": {},
   "outputs": [
    {
     "data": {
      "text/plain": [
       "['Maths', 'chem', 1, 33, 42, 'a', 'a', 'kkk']"
      ]
     },
     "execution_count": 48,
     "metadata": {},
     "output_type": "execute_result"
    }
   ],
   "source": [
    "list[:]"
   ]
  },
  {
   "cell_type": "code",
   "execution_count": 49,
   "id": "146b9e8b",
   "metadata": {},
   "outputs": [
    {
     "data": {
      "text/plain": [
       "['chem', 1, 33, 42, 'a', 'a', 'kkk']"
      ]
     },
     "execution_count": 49,
     "metadata": {},
     "output_type": "execute_result"
    }
   ],
   "source": [
    "list[1:]"
   ]
  },
  {
   "cell_type": "code",
   "execution_count": 50,
   "id": "fb74d2c5",
   "metadata": {},
   "outputs": [
    {
     "data": {
      "text/plain": [
       "['chem', 1, 33]"
      ]
     },
     "execution_count": 50,
     "metadata": {},
     "output_type": "execute_result"
    }
   ],
   "source": [
    "list[1:4]"
   ]
  },
  {
   "cell_type": "markdown",
   "id": "bf69ffb6",
   "metadata": {},
   "source": [
    "### Insert"
   ]
  },
  {
   "cell_type": "code",
   "execution_count": 51,
   "id": "7702684b",
   "metadata": {},
   "outputs": [],
   "source": [
    "list.insert(1,\"Shreya\")"
   ]
  },
  {
   "cell_type": "code",
   "execution_count": 52,
   "id": "9fb7637e",
   "metadata": {},
   "outputs": [
    {
     "data": {
      "text/plain": [
       "['Maths', 'Shreya', 'chem', 1, 33, 42, 'a', 'a', 'kkk']"
      ]
     },
     "execution_count": 52,
     "metadata": {},
     "output_type": "execute_result"
    }
   ],
   "source": [
    "list"
   ]
  },
  {
   "cell_type": "code",
   "execution_count": 53,
   "id": "9cac79a2",
   "metadata": {},
   "outputs": [
    {
     "data": {
      "text/plain": [
       "['Maths', 'Shreya', 'chem', 1, 33, 42, 'a', 'a', 'kkk', 'Hello World']"
      ]
     },
     "execution_count": 53,
     "metadata": {},
     "output_type": "execute_result"
    }
   ],
   "source": [
    "list.append(\"Hello World\")\n",
    "list"
   ]
  },
  {
   "cell_type": "code",
   "execution_count": 55,
   "id": "866ee76e",
   "metadata": {},
   "outputs": [
    {
     "data": {
      "text/plain": [
       "['Maths',\n",
       " 'Shreya',\n",
       " 'chem',\n",
       " 1,\n",
       " 33,\n",
       " 42,\n",
       " 'a',\n",
       " 'a',\n",
       " 'kkk',\n",
       " 'Hello World',\n",
       " 2,\n",
       " 3,\n",
       " 2,\n",
       " 3]"
      ]
     },
     "execution_count": 55,
     "metadata": {},
     "output_type": "execute_result"
    }
   ],
   "source": [
    "## extend\n",
    "list.extend([2,3])\n",
    "list"
   ]
  },
  {
   "cell_type": "code",
   "execution_count": null,
   "id": "9762d5ba",
   "metadata": {},
   "outputs": [],
   "source": [
    "# list operations"
   ]
  },
  {
   "cell_type": "code",
   "execution_count": 64,
   "id": "ad7f4881",
   "metadata": {},
   "outputs": [],
   "source": [
    "lst = [1,2,3,4,5]"
   ]
  },
  {
   "cell_type": "code",
   "execution_count": 65,
   "id": "adac0787",
   "metadata": {},
   "outputs": [
    {
     "data": {
      "text/plain": [
       "15"
      ]
     },
     "execution_count": 65,
     "metadata": {},
     "output_type": "execute_result"
    }
   ],
   "source": [
    "sum(lst)"
   ]
  },
  {
   "cell_type": "code",
   "execution_count": 66,
   "id": "046b3aeb",
   "metadata": {},
   "outputs": [
    {
     "data": {
      "text/plain": [
       "[1, 2, 3, 4]"
      ]
     },
     "execution_count": 66,
     "metadata": {},
     "output_type": "execute_result"
    }
   ],
   "source": [
    "lst.pop()\n",
    "lst"
   ]
  },
  {
   "cell_type": "code",
   "execution_count": 67,
   "id": "68e6367f",
   "metadata": {},
   "outputs": [
    {
     "data": {
      "text/plain": [
       "1"
      ]
     },
     "execution_count": 67,
     "metadata": {},
     "output_type": "execute_result"
    }
   ],
   "source": [
    "lst.pop(0)"
   ]
  },
  {
   "cell_type": "code",
   "execution_count": 79,
   "id": "e7d9f488",
   "metadata": {},
   "outputs": [
    {
     "data": {
      "text/plain": [
       "[2, 3, 4]"
      ]
     },
     "execution_count": 79,
     "metadata": {},
     "output_type": "execute_result"
    }
   ],
   "source": [
    "lst"
   ]
  },
  {
   "cell_type": "code",
   "execution_count": 80,
   "id": "ab00e2c1",
   "metadata": {},
   "outputs": [
    {
     "data": {
      "text/plain": [
       "[2, 3, 4, 2, 3, 4]"
      ]
     },
     "execution_count": 80,
     "metadata": {},
     "output_type": "execute_result"
    }
   ],
   "source": [
    "lst*2"
   ]
  },
  {
   "cell_type": "code",
   "execution_count": 70,
   "id": "7b6a01f9",
   "metadata": {},
   "outputs": [
    {
     "data": {
      "text/plain": [
       "1"
      ]
     },
     "execution_count": 70,
     "metadata": {},
     "output_type": "execute_result"
    }
   ],
   "source": [
    "lst.count(2)"
   ]
  },
  {
   "cell_type": "code",
   "execution_count": 71,
   "id": "0585b9c0",
   "metadata": {},
   "outputs": [
    {
     "data": {
      "text/plain": [
       "3"
      ]
     },
     "execution_count": 71,
     "metadata": {},
     "output_type": "execute_result"
    }
   ],
   "source": [
    "lstt = [1,2,3,3,4,3,2]\n",
    "lstt.count(3)"
   ]
  },
  {
   "cell_type": "code",
   "execution_count": 72,
   "id": "a1a1ab95",
   "metadata": {},
   "outputs": [
    {
     "data": {
      "text/plain": [
       "7"
      ]
     },
     "execution_count": 72,
     "metadata": {},
     "output_type": "execute_result"
    }
   ],
   "source": [
    "len(lstt)"
   ]
  },
  {
   "cell_type": "code",
   "execution_count": 74,
   "id": "3d0440a5",
   "metadata": {},
   "outputs": [
    {
     "data": {
      "text/plain": [
       "0"
      ]
     },
     "execution_count": 74,
     "metadata": {},
     "output_type": "execute_result"
    }
   ],
   "source": [
    "lstt.index(1,0,7) #item,start,stop"
   ]
  },
  {
   "cell_type": "code",
   "execution_count": 77,
   "id": "b84ccbc0",
   "metadata": {},
   "outputs": [
    {
     "data": {
      "text/plain": [
       "1"
      ]
     },
     "execution_count": 77,
     "metadata": {},
     "output_type": "execute_result"
    }
   ],
   "source": [
    "min(lstt)"
   ]
  },
  {
   "cell_type": "code",
   "execution_count": 78,
   "id": "508067ec",
   "metadata": {},
   "outputs": [
    {
     "data": {
      "text/plain": [
       "4"
      ]
     },
     "execution_count": 78,
     "metadata": {},
     "output_type": "execute_result"
    }
   ],
   "source": [
    "max(lstt)"
   ]
  }
 ],
 "metadata": {
  "kernelspec": {
   "display_name": "Python 3 (ipykernel)",
   "language": "python",
   "name": "python3"
  },
  "language_info": {
   "codemirror_mode": {
    "name": "ipython",
    "version": 3
   },
   "file_extension": ".py",
   "mimetype": "text/x-python",
   "name": "python",
   "nbconvert_exporter": "python",
   "pygments_lexer": "ipython3",
   "version": "3.9.13"
  }
 },
 "nbformat": 4,
 "nbformat_minor": 5
}
