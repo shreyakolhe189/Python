{
 "cells": [
  {
   "cell_type": "code",
   "execution_count": 1,
   "id": "c33dc2c4",
   "metadata": {},
   "outputs": [
    {
     "name": "stdout",
     "output_type": "stream",
     "text": [
      "Hello Krishna\n"
     ]
    }
   ],
   "source": [
    "print(\"Hello Krishna\")"
   ]
  },
  {
   "cell_type": "code",
   "execution_count": 2,
   "id": "3fb8c563",
   "metadata": {},
   "outputs": [],
   "source": [
    "str = \"Hello Krishna\""
   ]
  },
  {
   "cell_type": "code",
   "execution_count": 3,
   "id": "8b8c9262",
   "metadata": {},
   "outputs": [
    {
     "data": {
      "text/plain": [
       "'Hello Krishna'"
      ]
     },
     "execution_count": 3,
     "metadata": {},
     "output_type": "execute_result"
    }
   ],
   "source": [
    "str"
   ]
  },
  {
   "cell_type": "code",
   "execution_count": 4,
   "id": "031f80b1",
   "metadata": {},
   "outputs": [
    {
     "name": "stdout",
     "output_type": "stream",
     "text": [
      "Hello Krishna\n"
     ]
    }
   ],
   "source": [
    "print(str)"
   ]
  },
  {
   "cell_type": "code",
   "execution_count": 5,
   "id": "fe701d6f",
   "metadata": {},
   "outputs": [],
   "source": [
    "def greet(name):\n",
    "    return 'Hello {}. Welcome to the community.'.format(name)"
   ]
  },
  {
   "cell_type": "code",
   "execution_count": 8,
   "id": "fa3fb1ca",
   "metadata": {},
   "outputs": [
    {
     "name": "stdout",
     "output_type": "stream",
     "text": [
      "Hello Krishna. Welcome to the community.\n"
     ]
    }
   ],
   "source": [
    "print(greet(\"Krishna\")) # or greet(\"Krishna\")"
   ]
  },
  {
   "cell_type": "code",
   "execution_count": 9,
   "id": "a50afb25",
   "metadata": {},
   "outputs": [],
   "source": [
    "def welcomeEmail(firstname,lastname):\n",
    "    return \"Welcome {}. Your surname is {}\".format(firstname,lastname)"
   ]
  },
  {
   "cell_type": "code",
   "execution_count": 10,
   "id": "726b63a4",
   "metadata": {},
   "outputs": [
    {
     "data": {
      "text/plain": [
       "'Welcome Shreya. Yor surname is Kolhe'"
      ]
     },
     "execution_count": 10,
     "metadata": {},
     "output_type": "execute_result"
    }
   ],
   "source": [
    "welcomeEmail(\"Shreya\",\"Kolhe\")"
   ]
  }
 ],
 "metadata": {
  "kernelspec": {
   "display_name": "Python 3 (ipykernel)",
   "language": "python",
   "name": "python3"
  },
  "language_info": {
   "codemirror_mode": {
    "name": "ipython",
    "version": 3
   },
   "file_extension": ".py",
   "mimetype": "text/x-python",
   "name": "python",
   "nbconvert_exporter": "python",
   "pygments_lexer": "ipython3",
   "version": "3.9.13"
  }
 },
 "nbformat": 4,
 "nbformat_minor": 5
}
