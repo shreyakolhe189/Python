{
 "cells": [
  {
   "cell_type": "markdown",
   "id": "80d33f37",
   "metadata": {},
   "source": [
    "### Sets\n",
    "- unordered collection data type, iterable, mutable\n"
   ]
  },
  {
   "cell_type": "code",
   "execution_count": 1,
   "id": "7adf5654",
   "metadata": {},
   "outputs": [],
   "source": [
    "set_var = {1,2,3,4,5}"
   ]
  },
  {
   "cell_type": "code",
   "execution_count": 2,
   "id": "0ee20f6b",
   "metadata": {},
   "outputs": [
    {
     "data": {
      "text/plain": [
       "{1, 2, 3, 4, 5}"
      ]
     },
     "execution_count": 2,
     "metadata": {},
     "output_type": "execute_result"
    }
   ],
   "source": [
    "set_var"
   ]
  },
  {
   "cell_type": "code",
   "execution_count": 3,
   "id": "300c2864",
   "metadata": {},
   "outputs": [
    {
     "data": {
      "text/plain": [
       "set"
      ]
     },
     "execution_count": 3,
     "metadata": {},
     "output_type": "execute_result"
    }
   ],
   "source": [
    "type(set_var)"
   ]
  },
  {
   "cell_type": "raw",
   "id": "58813bfd",
   "metadata": {},
   "source": [
    "#doesnt support indexing in sets\n"
   ]
  },
  {
   "cell_type": "code",
   "execution_count": 6,
   "id": "24ed7fed",
   "metadata": {},
   "outputs": [],
   "source": [
    "set_var.add(6)"
   ]
  },
  {
   "cell_type": "code",
   "execution_count": 7,
   "id": "5bcee06a",
   "metadata": {},
   "outputs": [
    {
     "data": {
      "text/plain": [
       "{1, 2, 3, 4, 5, '6', 6}"
      ]
     },
     "execution_count": 7,
     "metadata": {},
     "output_type": "execute_result"
    }
   ],
   "source": [
    "set_var"
   ]
  },
  {
   "cell_type": "code",
   "execution_count": 16,
   "id": "f7cd9f10",
   "metadata": {},
   "outputs": [],
   "source": [
    "set1 = {\"Shreya\", \"Harshal\", \"Apu\"}\n",
    "set2 = {\"Shreya\", \"Harshal\", \"Apu\", \"Mahi\"}"
   ]
  },
  {
   "cell_type": "code",
   "execution_count": 17,
   "id": "2fd379d5",
   "metadata": {},
   "outputs": [
    {
     "name": "stdout",
     "output_type": "stream",
     "text": [
      "{'Apu', 'Harshal', 'Shreya'}\n"
     ]
    }
   ],
   "source": [
    "set2.intersection_update(set1)\n",
    "print(set2)"
   ]
  },
  {
   "cell_type": "code",
   "execution_count": 9,
   "id": "b2abe005",
   "metadata": {},
   "outputs": [
    {
     "data": {
      "text/plain": [
       "{'Mahi'}"
      ]
     },
     "execution_count": 9,
     "metadata": {},
     "output_type": "execute_result"
    }
   ],
   "source": [
    "set2.difference(set1)"
   ]
  },
  {
   "cell_type": "code",
   "execution_count": 10,
   "id": "32f2de60",
   "metadata": {},
   "outputs": [],
   "source": [
    "set2.difference_update(set1)"
   ]
  },
  {
   "cell_type": "code",
   "execution_count": 11,
   "id": "d5c9b814",
   "metadata": {},
   "outputs": [
    {
     "name": "stdout",
     "output_type": "stream",
     "text": [
      "{'Mahi'}\n"
     ]
    }
   ],
   "source": [
    "print(set2)"
   ]
  },
  {
   "cell_type": "markdown",
   "id": "b83d1e93",
   "metadata": {},
   "source": [
    "### Dictionaries\n",
    "- unordered collection, changeable, indexed\n",
    "- have key and values"
   ]
  },
  {
   "cell_type": "code",
   "execution_count": 18,
   "id": "bba75f8f",
   "metadata": {},
   "outputs": [],
   "source": [
    "dic = {}"
   ]
  },
  {
   "cell_type": "code",
   "execution_count": 19,
   "id": "80fc5489",
   "metadata": {},
   "outputs": [
    {
     "data": {
      "text/plain": [
       "dict"
      ]
     },
     "execution_count": 19,
     "metadata": {},
     "output_type": "execute_result"
    }
   ],
   "source": [
    "type(dic)"
   ]
  },
  {
   "cell_type": "code",
   "execution_count": 20,
   "id": "29563c75",
   "metadata": {},
   "outputs": [
    {
     "name": "stdout",
     "output_type": "stream",
     "text": [
      "{1, 2, 3, 4, 5}\n"
     ]
    }
   ],
   "source": [
    "#set\n",
    "dic = {1,2,3,4,5}\n",
    "print(dic)"
   ]
  },
  {
   "cell_type": "code",
   "execution_count": 21,
   "id": "3969b2e8",
   "metadata": {},
   "outputs": [
    {
     "data": {
      "text/plain": [
       "set"
      ]
     },
     "execution_count": 21,
     "metadata": {},
     "output_type": "execute_result"
    }
   ],
   "source": [
    "type(dic)"
   ]
  },
  {
   "cell_type": "code",
   "execution_count": 26,
   "id": "dbf0e691",
   "metadata": {},
   "outputs": [
    {
     "name": "stdout",
     "output_type": "stream",
     "text": [
      "{'a': 'A', 'b': 'B'}\n"
     ]
    },
    {
     "data": {
      "text/plain": [
       "dict"
      ]
     },
     "execution_count": 26,
     "metadata": {},
     "output_type": "execute_result"
    }
   ],
   "source": [
    "#dictionary create\n",
    "my_dict = {\"a\" : \"A\", \"b\" : \"B\"}\n",
    "print(my_dict)\n",
    "type(my_dict)"
   ]
  },
  {
   "cell_type": "code",
   "execution_count": 27,
   "id": "3fee3c8e",
   "metadata": {},
   "outputs": [
    {
     "data": {
      "text/plain": [
       "'A'"
      ]
     },
     "execution_count": 27,
     "metadata": {},
     "output_type": "execute_result"
    }
   ],
   "source": [
    "my_dict[\"a\"] #access item"
   ]
  },
  {
   "cell_type": "code",
   "execution_count": 28,
   "id": "cdb43aaf",
   "metadata": {},
   "outputs": [
    {
     "name": "stdout",
     "output_type": "stream",
     "text": [
      "a\n",
      "b\n"
     ]
    }
   ],
   "source": [
    "#for loop\n",
    "b \n",
    "for x in my_dict :\n",
    "    print(x)"
   ]
  },
  {
   "cell_type": "code",
   "execution_count": 29,
   "id": "d6a93124",
   "metadata": {},
   "outputs": [
    {
     "name": "stdout",
     "output_type": "stream",
     "text": [
      "A\n",
      "B\n"
     ]
    }
   ],
   "source": [
    "for x in my_dict.values() :\n",
    "    print(x)"
   ]
  },
  {
   "cell_type": "code",
   "execution_count": 30,
   "id": "811ec0f2",
   "metadata": {},
   "outputs": [
    {
     "name": "stdout",
     "output_type": "stream",
     "text": [
      "('a', 'A')\n",
      "('b', 'B')\n"
     ]
    }
   ],
   "source": [
    "for x in my_dict.items() :\n",
    "    print(x)"
   ]
  },
  {
   "cell_type": "code",
   "execution_count": 33,
   "id": "cbd8abf9",
   "metadata": {},
   "outputs": [
    {
     "name": "stdout",
     "output_type": "stream",
     "text": [
      "{'a': 'AA', 'b': 'B', 'c': 'C'}\n"
     ]
    }
   ],
   "source": [
    "my_dict['c'] = \"C\" #added\n",
    "print(my_dict)"
   ]
  },
  {
   "cell_type": "code",
   "execution_count": 35,
   "id": "aee8ff1f",
   "metadata": {},
   "outputs": [
    {
     "name": "stdout",
     "output_type": "stream",
     "text": [
      "{'a': 'AA', 'b': 'B', 'c': 'C'}\n"
     ]
    }
   ],
   "source": [
    "my_dict['a'] = \"AA\" #replaced,overriden\n",
    "print(my_dict)"
   ]
  },
  {
   "cell_type": "markdown",
   "id": "032b7089",
   "metadata": {},
   "source": [
    "### Nested dictionary"
   ]
  },
  {
   "cell_type": "code",
   "execution_count": 1,
   "id": "ab9de500",
   "metadata": {},
   "outputs": [],
   "source": [
    "car1_model = {\"Mercedes\" : 1960}\n",
    "car2_model = {\"BMW\" : 1970}\n",
    "car3_model = {\"Audi\" : 1980}"
   ]
  },
  {
   "cell_type": "code",
   "execution_count": 3,
   "id": "452d2d76",
   "metadata": {},
   "outputs": [],
   "source": [
    "car_type = {'car1' : car1_model, 'car2' : car2_model, 'car3' : car3_model}"
   ]
  },
  {
   "cell_type": "code",
   "execution_count": 4,
   "id": "0d5e8eff",
   "metadata": {},
   "outputs": [
    {
     "name": "stdout",
     "output_type": "stream",
     "text": [
      "{'car1': {'Mercedes': 1960}, 'car2': {'BMW': 1970}, 'car3': {'Audi': 1980}}\n"
     ]
    }
   ],
   "source": [
    "print(car_type)"
   ]
  },
  {
   "cell_type": "code",
   "execution_count": 5,
   "id": "944ce443",
   "metadata": {},
   "outputs": [
    {
     "name": "stdout",
     "output_type": "stream",
     "text": [
      "{'Mercedes': 1960}\n"
     ]
    }
   ],
   "source": [
    "print(car_type['car1'])"
   ]
  },
  {
   "cell_type": "code",
   "execution_count": 6,
   "id": "c6e3281f",
   "metadata": {},
   "outputs": [
    {
     "name": "stdout",
     "output_type": "stream",
     "text": [
      "1960\n"
     ]
    }
   ],
   "source": [
    "print(car_type['car1']['Mercedes'])"
   ]
  },
  {
   "cell_type": "markdown",
   "id": "29450785",
   "metadata": {},
   "source": [
    "### Tuples\n"
   ]
  },
  {
   "cell_type": "code",
   "execution_count": 7,
   "id": "f8b59781",
   "metadata": {},
   "outputs": [],
   "source": [
    "my_tuple = tuple()"
   ]
  },
  {
   "cell_type": "code",
   "execution_count": 8,
   "id": "f2addc77",
   "metadata": {},
   "outputs": [
    {
     "data": {
      "text/plain": [
       "tuple"
      ]
     },
     "execution_count": 8,
     "metadata": {},
     "output_type": "execute_result"
    }
   ],
   "source": [
    "type(my_tuple)"
   ]
  },
  {
   "cell_type": "code",
   "execution_count": 9,
   "id": "7641341b",
   "metadata": {},
   "outputs": [
    {
     "data": {
      "text/plain": [
       "tuple"
      ]
     },
     "execution_count": 9,
     "metadata": {},
     "output_type": "execute_result"
    }
   ],
   "source": [
    "my_tup = ()\n",
    "type(my_tup)"
   ]
  },
  {
   "cell_type": "code",
   "execution_count": 10,
   "id": "60cba91f",
   "metadata": {},
   "outputs": [],
   "source": [
    "my_tup = (\"Shreya\",\"harshal\",\"apu\")"
   ]
  },
  {
   "cell_type": "code",
   "execution_count": 11,
   "id": "35f3513d",
   "metadata": {},
   "outputs": [
    {
     "name": "stdout",
     "output_type": "stream",
     "text": [
      "<class 'tuple'>\n",
      "('Shreya', 'harshal', 'apu')\n"
     ]
    }
   ],
   "source": [
    "print(type(my_tup))\n",
    "print(my_tup)"
   ]
  },
  {
   "cell_type": "code",
   "execution_count": 12,
   "id": "340a0107",
   "metadata": {},
   "outputs": [
    {
     "data": {
      "text/plain": [
       "'Shreya'"
      ]
     },
     "execution_count": 12,
     "metadata": {},
     "output_type": "execute_result"
    }
   ],
   "source": [
    "my_tup[0]"
   ]
  },
  {
   "cell_type": "code",
   "execution_count": 13,
   "id": "b8dc65be",
   "metadata": {},
   "outputs": [
    {
     "data": {
      "text/plain": [
       "1"
      ]
     },
     "execution_count": 13,
     "metadata": {},
     "output_type": "execute_result"
    }
   ],
   "source": [
    "my_tup.count('Shreya')"
   ]
  }
 ],
 "metadata": {
  "kernelspec": {
   "display_name": "Python 3 (ipykernel)",
   "language": "python",
   "name": "python3"
  },
  "language_info": {
   "codemirror_mode": {
    "name": "ipython",
    "version": 3
   },
   "file_extension": ".py",
   "mimetype": "text/x-python",
   "name": "python",
   "nbconvert_exporter": "python",
   "pygments_lexer": "ipython3",
   "version": "3.9.13"
  }
 },
 "nbformat": 4,
 "nbformat_minor": 5
}
