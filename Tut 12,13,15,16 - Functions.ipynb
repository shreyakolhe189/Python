{
 "cells": [
  {
   "cell_type": "markdown",
   "id": "5fd97186",
   "metadata": {},
   "source": [
    "## Functions"
   ]
  },
  {
   "cell_type": "code",
   "execution_count": 1,
   "id": "961dd20a",
   "metadata": {},
   "outputs": [
    {
     "name": "stdout",
     "output_type": "stream",
     "text": [
      "even\n"
     ]
    }
   ],
   "source": [
    "num = 24\n",
    " \n",
    "if num%2==0:\n",
    "    print('even')\n",
    "else:\n",
    "    print('odd')"
   ]
  },
  {
   "cell_type": "code",
   "execution_count": 2,
   "id": "6bc18341",
   "metadata": {},
   "outputs": [],
   "source": [
    "def evenOdd(n):\n",
    "    if n%2==0:\n",
    "        print('even')\n",
    "    else:\n",
    "        print('odd')"
   ]
  },
  {
   "cell_type": "code",
   "execution_count": 3,
   "id": "ef79cafe",
   "metadata": {},
   "outputs": [
    {
     "name": "stdout",
     "output_type": "stream",
     "text": [
      "odd\n"
     ]
    }
   ],
   "source": [
    "evenOdd(3)"
   ]
  },
  {
   "cell_type": "code",
   "execution_count": 4,
   "id": "a683849c",
   "metadata": {},
   "outputs": [],
   "source": [
    "def hello():\n",
    "    print(\"Hello\")"
   ]
  },
  {
   "cell_type": "code",
   "execution_count": 5,
   "id": "3adaed9e",
   "metadata": {},
   "outputs": [
    {
     "name": "stdout",
     "output_type": "stream",
     "text": [
      "Hello\n"
     ]
    }
   ],
   "source": [
    "hello()"
   ]
  },
  {
   "cell_type": "code",
   "execution_count": 6,
   "id": "87514b6a",
   "metadata": {},
   "outputs": [],
   "source": [
    "def hi():\n",
    "    return 'hi'"
   ]
  },
  {
   "cell_type": "code",
   "execution_count": 7,
   "id": "44acf135",
   "metadata": {},
   "outputs": [],
   "source": [
    "var = hi()"
   ]
  },
  {
   "cell_type": "code",
   "execution_count": 8,
   "id": "906e7830",
   "metadata": {},
   "outputs": [
    {
     "name": "stdout",
     "output_type": "stream",
     "text": [
      "hi\n"
     ]
    }
   ],
   "source": [
    "print(var)"
   ]
  },
  {
   "cell_type": "code",
   "execution_count": 9,
   "id": "c1985dbd",
   "metadata": {},
   "outputs": [],
   "source": [
    "def add(n1,n2):\n",
    "    return n1+n2"
   ]
  },
  {
   "cell_type": "code",
   "execution_count": 11,
   "id": "00f5248a",
   "metadata": {},
   "outputs": [],
   "source": [
    "a = add(3,4)"
   ]
  },
  {
   "cell_type": "code",
   "execution_count": 12,
   "id": "b1cf229b",
   "metadata": {},
   "outputs": [
    {
     "name": "stdout",
     "output_type": "stream",
     "text": [
      "7\n"
     ]
    }
   ],
   "source": [
    "print(a)"
   ]
  },
  {
   "cell_type": "code",
   "execution_count": 13,
   "id": "8909073c",
   "metadata": {},
   "outputs": [],
   "source": [
    "def helllo(name,age=20): #name = positional argument, age = keyword argument\n",
    "    print(\"My name is {} and age is {}\".format(name,age))"
   ]
  },
  {
   "cell_type": "code",
   "execution_count": 14,
   "id": "a628c544",
   "metadata": {},
   "outputs": [
    {
     "name": "stdout",
     "output_type": "stream",
     "text": [
      "My name is shreya and age is 20\n"
     ]
    }
   ],
   "source": [
    "helllo('shreya')"
   ]
  },
  {
   "cell_type": "code",
   "execution_count": 15,
   "id": "2da97396",
   "metadata": {},
   "outputs": [],
   "source": [
    "def hii(*args,**kwargs):\n",
    "    print(args)\n",
    "    print(kwargs)"
   ]
  },
  {
   "cell_type": "code",
   "execution_count": 16,
   "id": "82487dd0",
   "metadata": {},
   "outputs": [
    {
     "name": "stdout",
     "output_type": "stream",
     "text": [
      "('shreya', 'apu')\n",
      "{'age': 20, 'dob': 18}\n"
     ]
    }
   ],
   "source": [
    "hii('shreya','apu',age=20,dob= 18)"
   ]
  },
  {
   "cell_type": "code",
   "execution_count": 19,
   "id": "2cb5d165",
   "metadata": {},
   "outputs": [],
   "source": [
    "lst = ['shreya','apu']\n",
    "dict_args = {'age':20,'dob':18}"
   ]
  },
  {
   "cell_type": "code",
   "execution_count": 20,
   "id": "269368ab",
   "metadata": {},
   "outputs": [
    {
     "name": "stdout",
     "output_type": "stream",
     "text": [
      "(['shreya', 'apu'], {'age': 20, 'dob': 18})\n",
      "{}\n"
     ]
    }
   ],
   "source": [
    "hii(lst,dict_args)"
   ]
  },
  {
   "cell_type": "code",
   "execution_count": 21,
   "id": "4199b9a5",
   "metadata": {},
   "outputs": [
    {
     "name": "stdout",
     "output_type": "stream",
     "text": [
      "('shreya', 'apu')\n",
      "{'age': 20, 'dob': 18}\n"
     ]
    }
   ],
   "source": [
    "hii(*lst,**dict_args)"
   ]
  },
  {
   "cell_type": "code",
   "execution_count": 28,
   "id": "025fd07c",
   "metadata": {},
   "outputs": [],
   "source": [
    "lstt = [1,2,3,4,5]"
   ]
  },
  {
   "cell_type": "code",
   "execution_count": 29,
   "id": "e951a48e",
   "metadata": {},
   "outputs": [],
   "source": [
    "def evenOddSum(lstt):\n",
    "    evenS = 0\n",
    "    oddS = 0\n",
    "    for i in lstt:\n",
    "        if i%2==0:\n",
    "            evenS = evenS + i\n",
    "        else:\n",
    "            oddS = oddS + i\n",
    "            \n",
    "    return evenS,oddS"
   ]
  },
  {
   "cell_type": "code",
   "execution_count": 30,
   "id": "23e9b6e7",
   "metadata": {},
   "outputs": [
    {
     "data": {
      "text/plain": [
       "(6, 9)"
      ]
     },
     "execution_count": 30,
     "metadata": {},
     "output_type": "execute_result"
    }
   ],
   "source": [
    "evenOddSum(lstt)"
   ]
  },
  {
   "cell_type": "markdown",
   "id": "72744710",
   "metadata": {},
   "source": [
    "## Lambda Functions\n",
    "- anonymous function, a function with no name"
   ]
  },
  {
   "cell_type": "code",
   "execution_count": 31,
   "id": "67757bdd",
   "metadata": {},
   "outputs": [],
   "source": [
    "def ad(a,b):\n",
    "    return a + b"
   ]
  },
  {
   "cell_type": "code",
   "execution_count": 32,
   "id": "591c2e5a",
   "metadata": {},
   "outputs": [
    {
     "data": {
      "text/plain": [
       "7"
      ]
     },
     "execution_count": 32,
     "metadata": {},
     "output_type": "execute_result"
    }
   ],
   "source": [
    "ad(3,4)"
   ]
  },
  {
   "cell_type": "code",
   "execution_count": 33,
   "id": "5744935f",
   "metadata": {},
   "outputs": [],
   "source": [
    "ads = lambda a,b:a+b"
   ]
  },
  {
   "cell_type": "code",
   "execution_count": 34,
   "id": "396e10a8",
   "metadata": {},
   "outputs": [
    {
     "data": {
      "text/plain": [
       "7"
      ]
     },
     "execution_count": 34,
     "metadata": {},
     "output_type": "execute_result"
    }
   ],
   "source": [
    "ads(3,4)"
   ]
  },
  {
   "cell_type": "code",
   "execution_count": 35,
   "id": "0142eb29",
   "metadata": {},
   "outputs": [],
   "source": [
    "evnOd = lambda n : n % 2 == 0"
   ]
  },
  {
   "cell_type": "code",
   "execution_count": 36,
   "id": "f4b55bde",
   "metadata": {},
   "outputs": [
    {
     "data": {
      "text/plain": [
       "False"
      ]
     },
     "execution_count": 36,
     "metadata": {},
     "output_type": "execute_result"
    }
   ],
   "source": [
    "evnOd(455)"
   ]
  },
  {
   "cell_type": "code",
   "execution_count": 37,
   "id": "a434f597",
   "metadata": {},
   "outputs": [],
   "source": [
    "adds = lambda a,b,c : a+b+c"
   ]
  },
  {
   "cell_type": "code",
   "execution_count": 38,
   "id": "06602d51",
   "metadata": {},
   "outputs": [
    {
     "data": {
      "text/plain": [
       "12"
      ]
     },
     "execution_count": 38,
     "metadata": {},
     "output_type": "execute_result"
    }
   ],
   "source": [
    "adds(3,4,5)"
   ]
  },
  {
   "cell_type": "markdown",
   "id": "513d7e5e",
   "metadata": {},
   "source": [
    "## Map Functions"
   ]
  },
  {
   "cell_type": "code",
   "execution_count": 40,
   "id": "fa84249b",
   "metadata": {},
   "outputs": [],
   "source": [
    "def eoo(n):\n",
    "    if n%2==0:\n",
    "        return True\n",
    "    else:\n",
    "        return False"
   ]
  },
  {
   "cell_type": "code",
   "execution_count": 41,
   "id": "97c099e5",
   "metadata": {},
   "outputs": [
    {
     "data": {
      "text/plain": [
       "False"
      ]
     },
     "execution_count": 41,
     "metadata": {},
     "output_type": "execute_result"
    }
   ],
   "source": [
    "eoo(7)"
   ]
  },
  {
   "cell_type": "code",
   "execution_count": 42,
   "id": "106e0963",
   "metadata": {},
   "outputs": [],
   "source": [
    "lis = [1,2,3,4,5,6,7]"
   ]
  },
  {
   "cell_type": "code",
   "execution_count": 43,
   "id": "b65d24c3",
   "metadata": {},
   "outputs": [
    {
     "data": {
      "text/plain": [
       "[False, True, False, True, False, True, False]"
      ]
     },
     "execution_count": 43,
     "metadata": {},
     "output_type": "execute_result"
    }
   ],
   "source": [
    "list(map(eoo,lis))"
   ]
  },
  {
   "cell_type": "markdown",
   "id": "3456f85d",
   "metadata": {},
   "source": [
    "## Filter Functions"
   ]
  },
  {
   "cell_type": "code",
   "execution_count": 44,
   "id": "385f8a4e",
   "metadata": {},
   "outputs": [],
   "source": [
    "def evn(a):\n",
    "    if a%2==0:\n",
    "        return True\n",
    "    else:\n",
    "        return False"
   ]
  },
  {
   "cell_type": "code",
   "execution_count": 45,
   "id": "2ddeb0bf",
   "metadata": {},
   "outputs": [],
   "source": [
    "lstt = [1,2,3,4,5,6]"
   ]
  },
  {
   "cell_type": "code",
   "execution_count": 47,
   "id": "e63ba12b",
   "metadata": {},
   "outputs": [
    {
     "data": {
      "text/plain": [
       "[2, 4, 6]"
      ]
     },
     "execution_count": 47,
     "metadata": {},
     "output_type": "execute_result"
    }
   ],
   "source": [
    "list(filter(evn,lstt))"
   ]
  },
  {
   "cell_type": "code",
   "execution_count": 49,
   "id": "0c80438c",
   "metadata": {},
   "outputs": [
    {
     "data": {
      "text/plain": [
       "[2, 4, 6]"
      ]
     },
     "execution_count": 49,
     "metadata": {},
     "output_type": "execute_result"
    }
   ],
   "source": [
    "list(filter(lambda b : b%2==0,lstt))"
   ]
  },
  {
   "cell_type": "code",
   "execution_count": 51,
   "id": "77b602e1",
   "metadata": {},
   "outputs": [
    {
     "data": {
      "text/plain": [
       "[False, True, False, True, False, True]"
      ]
     },
     "execution_count": 51,
     "metadata": {},
     "output_type": "execute_result"
    }
   ],
   "source": [
    "list(map(lambda b : b%2==0,lstt))"
   ]
  },
  {
   "cell_type": "code",
   "execution_count": null,
   "id": "56d5cd11",
   "metadata": {},
   "outputs": [],
   "source": []
  }
 ],
 "metadata": {
  "kernelspec": {
   "display_name": "Python 3 (ipykernel)",
   "language": "python",
   "name": "python3"
  },
  "language_info": {
   "codemirror_mode": {
    "name": "ipython",
    "version": 3
   },
   "file_extension": ".py",
   "mimetype": "text/x-python",
   "name": "python",
   "nbconvert_exporter": "python",
   "pygments_lexer": "ipython3",
   "version": "3.9.13"
  }
 },
 "nbformat": 4,
 "nbformat_minor": 5
}
